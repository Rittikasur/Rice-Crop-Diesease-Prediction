{
 "cells": [
  {
   "cell_type": "markdown",
   "metadata": {
    "id": "jm459EZSk4zS"
   },
   "source": [
    "### **Importing  the Librairies**"
   ]
  },
  {
   "cell_type": "code",
   "execution_count": null,
   "metadata": {
    "colab": {
     "base_uri": "https://localhost:8080/"
    },
    "id": "B9XR2lRUPtQG",
    "outputId": "d27b9e46-2620-49fd-d815-65eff80ca46f"
   },
   "outputs": [
    {
     "name": "stdout",
     "output_type": "stream",
     "text": [
      "\u001b[31mERROR: Could not find a version that satisfies the requirement tf-nightly-gpu-2.0-preview (from versions: none)\u001b[0m\n",
      "\u001b[31mERROR: No matching distribution found for tf-nightly-gpu-2.0-preview\u001b[0m\n",
      "Collecting tf-hub-nightly\n",
      "  Downloading tf_hub_nightly-0.13.0.dev202205050014-py2.py3-none-any.whl (109 kB)\n",
      "\u001b[K     |████████████████████████████████| 109 kB 4.3 MB/s \n",
      "\u001b[?25hRequirement already satisfied: numpy>=1.12.0 in /usr/local/lib/python3.7/dist-packages (from tf-hub-nightly) (1.21.6)\n",
      "Requirement already satisfied: protobuf>=3.8.0 in /usr/local/lib/python3.7/dist-packages (from tf-hub-nightly) (3.17.3)\n",
      "Requirement already satisfied: six>=1.9 in /usr/local/lib/python3.7/dist-packages (from protobuf>=3.8.0->tf-hub-nightly) (1.15.0)\n",
      "Installing collected packages: tf-hub-nightly\n",
      "Successfully installed tf-hub-nightly-0.13.0.dev202205050014\n",
      "\u001b[31mERROR: Could not find a version that satisfies the requirement tensorflow==2.0.0-alpha (from versions: 1.13.1, 1.13.2, 1.14.0, 1.15.0, 1.15.2, 1.15.3, 1.15.4, 1.15.5, 2.0.0, 2.0.1, 2.0.2, 2.0.3, 2.0.4, 2.1.0, 2.1.1, 2.1.2, 2.1.3, 2.1.4, 2.2.0, 2.2.1, 2.2.2, 2.2.3, 2.3.0, 2.3.1, 2.3.2, 2.3.3, 2.3.4, 2.4.0, 2.4.1, 2.4.2, 2.4.3, 2.4.4, 2.5.0, 2.5.1, 2.5.2, 2.5.3, 2.6.0rc0, 2.6.0rc1, 2.6.0rc2, 2.6.0, 2.6.1, 2.6.2, 2.6.3, 2.7.0rc0, 2.7.0rc1, 2.7.0, 2.7.1, 2.8.0rc0, 2.8.0rc1, 2.8.0, 2.9.0rc0, 2.9.0rc1, 2.9.0rc2)\u001b[0m\n",
      "\u001b[31mERROR: No matching distribution found for tensorflow==2.0.0-alpha\u001b[0m\n",
      "Collecting tensorflow-hub==0.10.0\n",
      "  Downloading tensorflow_hub-0.10.0-py2.py3-none-any.whl (107 kB)\n",
      "\u001b[K     |████████████████████████████████| 107 kB 4.1 MB/s \n",
      "\u001b[?25hRequirement already satisfied: numpy>=1.12.0 in /usr/local/lib/python3.7/dist-packages (from tensorflow-hub==0.10.0) (1.21.6)\n",
      "Requirement already satisfied: protobuf>=3.8.0 in /usr/local/lib/python3.7/dist-packages (from tensorflow-hub==0.10.0) (3.17.3)\n",
      "Requirement already satisfied: six>=1.9 in /usr/local/lib/python3.7/dist-packages (from protobuf>=3.8.0->tensorflow-hub==0.10.0) (1.15.0)\n",
      "Installing collected packages: tensorflow-hub\n",
      "  Attempting uninstall: tensorflow-hub\n",
      "    Found existing installation: tensorflow-hub 0.12.0\n",
      "    Uninstalling tensorflow-hub-0.12.0:\n",
      "      Successfully uninstalled tensorflow-hub-0.12.0\n",
      "Successfully installed tensorflow-hub-0.10.0\n"
     ]
    }
   ],
   "source": [
    "# Install nightly package for some functionalities that aren't in alpha\n",
    "!pip install tf-nightly-gpu-2.0-preview\n",
    "!pip install tf-hub-nightly\n",
    "!pip install tensorflow==2.0.0-alpha\n",
    "\n",
    "# Install TF Hub for TF2\n",
    "!pip install 'tensorflow-hub == 0.10.0'\n"
   ]
  },
  {
   "cell_type": "code",
   "execution_count": null,
   "metadata": {
    "id": "f_hZVquWBx9b"
   },
   "outputs": [],
   "source": [
    "from __future__ import absolute_import, division, print_function, unicode_literals\n",
    "\n",
    "\n",
    "import tensorflow as tf\n",
    "#tf.logging.set_verbosity(tf.logging.ERROR)\n",
    "#tf.enable_eager_execution()\n",
    "\n",
    "import tensorflow_hub as hub\n",
    "import os\n",
    "from tensorflow.keras.layers import Dense, Flatten, Conv2D\n",
    "from tensorflow.keras import Model\n",
    "from tensorflow.keras.preprocessing.image import ImageDataGenerator\n",
    "from tensorflow.keras.optimizers import Adam\n",
    "from tensorflow.keras import layers\n",
    "#from keras import optimizers\n",
    "\n",
    "\n"
   ]
  },
  {
   "cell_type": "code",
   "execution_count": null,
   "metadata": {
    "id": "eoKSWDje_6z0"
   },
   "outputs": [],
   "source": [
    "# verify TensorFlow version\n",
    "\n",
    "print(\"Version: \", tf.__version__)\n",
    "print(\"Eager mode: \", tf.executing_eagerly())\n",
    "print(\"Hub version: \", hub.__version__)\n",
    "print(\"GPU is\", \"available\" if tf.test.is_gpu_available() else \"NOT AVAILABLE\")\n"
   ]
  },
  {
   "cell_type": "markdown",
   "metadata": {
    "id": "l9qTqaSDaL-i"
   },
   "source": [
    "### Load the data\n",
    "\n",
    "\n"
   ]
  },
  {
   "cell_type": "code",
   "execution_count": null,
   "metadata": {
    "id": "ioxHp8a6j0Jf"
   },
   "outputs": [],
   "source": [
    "from google.colab import drive\n",
    "drive.mount(\"/content/drive\")"
   ]
  },
  {
   "cell_type": "markdown",
   "metadata": {
    "id": "d_woCG18jX47"
   },
   "source": []
  },
  {
   "cell_type": "markdown",
   "metadata": {
    "id": "HA69CPvROvk5"
   },
   "source": [
    "### Prepare training and validation  dataset\n"
   ]
  },
  {
   "cell_type": "code",
   "execution_count": null,
   "metadata": {
    "id": "PhB3buj3OoKP"
   },
   "outputs": [],
   "source": [
    "data_dir = \"/content/drive/My Drive/Rice_diesease_05.05.22/ricedata_mixed/rice\"#os.path.join(os.path.dirname(zip_file), '/content/rice')\n",
    "train_dir = \"/content/drive/My Drive/Rice_diesease_05.05.22/ricedata_mixed/rice/train\"#os.path.join(data_dir, 'train')\n",
    "validation_dir = \"/content/drive/My Drive/Rice_diesease_05.05.22/ricedata_mixed/rice/validation\"#os.path.join(data_dir, 'validation')\n",
    "\n"
   ]
  },
  {
   "cell_type": "code",
   "execution_count": null,
   "metadata": {
    "id": "bDUxGnMdkmE8"
   },
   "outputs": [],
   "source": [
    "import time\n",
    "import os\n",
    "from os.path import exists\n",
    "\n",
    "def count(dir, counter=0):\n",
    "    \"returns number of files in dir and subdirs\"\n",
    "    for pack in os.walk(dir):\n",
    "        for f in pack[2]:\n",
    "            counter += 1\n",
    "    return dir + \" : \" + str(counter) + \"files\"\n"
   ]
  },
  {
   "cell_type": "code",
   "execution_count": null,
   "metadata": {
    "colab": {
     "base_uri": "https://localhost:8080/"
    },
    "id": "lwFeDj4ughkE",
    "outputId": "4310c3a4-9744-4a45-e894-0d77d71a6997"
   },
   "outputs": [
    {
     "name": "stdout",
     "output_type": "stream",
     "text": [
      "total images for training : /content/drive/My Drive/Rice_diesease_05.05.22/ricedata_mixed/rice/train : 1372files\n",
      "total images for validation : /content/drive/My Drive/Rice_diesease_05.05.22/ricedata_mixed/rice/validation : 108files\n"
     ]
    }
   ],
   "source": [
    "print('total images for training :', count(train_dir))\n",
    "print('total images for validation :', count(validation_dir))\n"
   ]
  },
  {
   "cell_type": "markdown",
   "metadata": {
    "id": "sKbwKt0_aL_D"
   },
   "source": [
    "### Label mapping\n"
   ]
  },
  {
   "cell_type": "code",
   "execution_count": null,
   "metadata": {
    "colab": {
     "base_uri": "https://localhost:8080/"
    },
    "id": "3-G_4n8ZF91f",
    "outputId": "e6e491cd-9683-4b4f-d3c4-72111f5e1ab5"
   },
   "outputs": [
    {
     "name": "stdout",
     "output_type": "stream",
     "text": [
      "Archive:  master.zip\n",
      "e56f0a072757582b0c8e6db762a720860b8da342\n",
      "   creating: rice-leaf-diseases-detection-master/\n",
      "  inflating: rice-leaf-diseases-detection-master/README.md  \n",
      "  inflating: rice-leaf-diseases-detection-master/Rice_Leaf_Detection.ipynb  \n",
      "  inflating: rice-leaf-diseases-detection-master/Rice_Leaf_Detection_Colab.ipynb  \n",
      "  inflating: rice-leaf-diseases-detection-master/classes.json  \n",
      "  inflating: rice-leaf-diseases-detection-master/rice-leaf.zip  \n"
     ]
    }
   ],
   "source": [
    "!!wget https://github.com/AveyBD/rice-leaf-diseases-detection/archive/master.zip\n",
    "!unzip master.zip;"
   ]
  },
  {
   "cell_type": "code",
   "execution_count": null,
   "metadata": {
    "colab": {
     "base_uri": "https://localhost:8080/"
    },
    "id": "FCf_N7v3HBzB",
    "outputId": "b3a03fc4-9417-4c6a-e54b-88ea83b3d1db"
   },
   "outputs": [
    {
     "name": "stdout",
     "output_type": "stream",
     "text": [
      "['Bacterial_leaf_blight', 'blast', 'brownspot', 'tungro']\n"
     ]
    }
   ],
   "source": [
    "import json\n",
    "\n",
    "with open('rice-leaf-diseases-detection-master/classes.json', 'r') as f:\n",
    "    cat_to_name = json.load(f)\n",
    "    classes = list(cat_to_name.values())\n",
    "classes.append('tungro')\n",
    "print (classes)"
   ]
  },
  {
   "cell_type": "code",
   "execution_count": null,
   "metadata": {
    "colab": {
     "base_uri": "https://localhost:8080/"
    },
    "id": "hzILXef8Um5v",
    "outputId": "9f7d5e3c-200e-4e69-ff86-54aad703ef7c"
   },
   "outputs": [
    {
     "name": "stdout",
     "output_type": "stream",
     "text": [
      "Number of classes: 4\n"
     ]
    }
   ],
   "source": [
    "print('Number of classes:',len(classes))"
   ]
  },
  {
   "cell_type": "markdown",
   "metadata": {
    "id": "5VeSPT_J0otV"
   },
   "source": [
    "\n",
    "\n",
    "```\n",
    "# This is formatted as code\n",
    "```\n",
    "\n",
    "###Select the Hub/TF2 module to use"
   ]
  },
  {
   "cell_type": "code",
   "execution_count": null,
   "metadata": {
    "colab": {
     "base_uri": "https://localhost:8080/"
    },
    "id": "lyCAYjNT09ja",
    "outputId": "9f45fb87-5db0-4254-803b-c81cbe5668db"
   },
   "outputs": [
    {
     "name": "stdout",
     "output_type": "stream",
     "text": [
      "Using https://tfhub.dev/google/tf2-preview/inception_v3/feature_vector/2 with input size (299, 299) and output dimension 2048\n"
     ]
    }
   ],
   "source": [
    "module_selection = (\"inception_v3\", 299, 2048) #@param [\"(\\\"mobilenet_v2\\\", 224, 1280)\", \"(\\\"inception_v3\\\", 299, 2048)\"] {type:\"raw\", allow-input: true}\n",
    "handle_base, pixels, FV_SIZE = module_selection\n",
    "MODULE_HANDLE =\"https://tfhub.dev/google/tf2-preview/{}/feature_vector/2\".format(handle_base)\n",
    "IMAGE_SIZE = (pixels, pixels)\n",
    "print(\"Using {} with input size {} and output dimension {}\".format(\n",
    "  MODULE_HANDLE, IMAGE_SIZE, FV_SIZE))\n",
    "\n",
    "BATCH_SIZE = 64 #@param {type:\"integer\"}"
   ]
  },
  {
   "cell_type": "markdown",
   "metadata": {
    "id": "ypePvgaXw5Lm"
   },
   "source": [
    "### Data Preprocessing\n",
    "\n",
    "\n"
   ]
  },
  {
   "cell_type": "code",
   "execution_count": null,
   "metadata": {
    "colab": {
     "base_uri": "https://localhost:8080/"
    },
    "id": "JRrsFKez6fFf",
    "outputId": "83f70fb8-5b7d-4c99-e8a3-f42591dcfb85"
   },
   "outputs": [
    {
     "name": "stdout",
     "output_type": "stream",
     "text": [
      "Found 108 images belonging to 4 classes.\n",
      "Found 1372 images belonging to 4 classes.\n"
     ]
    }
   ],
   "source": [
    "# Inputs are suitably resized for the selected module. Dataset augmentation (i.e., random distortions of an image each time it is read) improves training, esp. when fine-tuning.\n",
    "\n",
    "validation_datagen = tf.keras.preprocessing.image.ImageDataGenerator(rescale=1./255)\n",
    "validation_generator = validation_datagen.flow_from_directory(\n",
    "    validation_dir, \n",
    "    shuffle=True, \n",
    "    seed=42,\n",
    "    color_mode=\"rgb\", \n",
    "    class_mode=\"categorical\",\n",
    "    target_size=IMAGE_SIZE,\n",
    "    batch_size=BATCH_SIZE)\n",
    "\n",
    "do_data_augmentation = True #@param {type:\"boolean\"}\n",
    "if do_data_augmentation:\n",
    "  train_datagen = tf.keras.preprocessing.image.ImageDataGenerator(\n",
    "      rescale = 1./255,\n",
    "      rotation_range=40,\n",
    "      horizontal_flip=True,\n",
    "      width_shift_range=0.2, \n",
    "      height_shift_range=0.2,\n",
    "      shear_range=0.2, \n",
    "      zoom_range=0.2,\n",
    "      fill_mode='nearest' )\n",
    "else:\n",
    "  train_datagen = validation_datagen\n",
    "  \n",
    "train_generator = train_datagen.flow_from_directory(\n",
    "    train_dir, \n",
    "    subset=\"training\", \n",
    "    shuffle=True, \n",
    "    seed=42,\n",
    "    color_mode=\"rgb\", \n",
    "    class_mode=\"categorical\",\n",
    "    target_size=IMAGE_SIZE,\n",
    "    batch_size=BATCH_SIZE)\n"
   ]
  },
  {
   "cell_type": "markdown",
   "metadata": {
    "id": "3Afm5Jn42E4T"
   },
   "source": [
    "###Build the model\n"
   ]
  },
  {
   "cell_type": "code",
   "execution_count": null,
   "metadata": {
    "id": "ALVyqEnolCwK"
   },
   "outputs": [],
   "source": [
    "feature_extractor = hub.KerasLayer(MODULE_HANDLE,\n",
    "                                   input_shape=IMAGE_SIZE+(3,),\n",
    "                                   output_shape=[FV_SIZE])\n",
    "\n",
    "\n"
   ]
  },
  {
   "cell_type": "code",
   "execution_count": null,
   "metadata": {
    "id": "hMYytuAGB34w"
   },
   "outputs": [],
   "source": [
    "do_fine_tuning = False #@param {type:\"boolean\"}\n",
    "if do_fine_tuning:\n",
    "  feature_extractor.trainable = True\n",
    "  # unfreeze some layers of base network for fine-tuning\n",
    "  for layer in base_model.layers[-10:]:\n",
    "    layer.trainable =True\n",
    "  \n",
    "else:\n",
    "  feature_extractor.trainable = False\n",
    "    "
   ]
  },
  {
   "cell_type": "code",
   "execution_count": null,
   "metadata": {
    "colab": {
     "base_uri": "https://localhost:8080/"
    },
    "id": "A9iG69R72XUT",
    "outputId": "119bcce7-5d62-4d12-d1a5-296ed8c42797"
   },
   "outputs": [
    {
     "name": "stdout",
     "output_type": "stream",
     "text": [
      "Building model with https://tfhub.dev/google/tf2-preview/inception_v3/feature_vector/2\n",
      "Model: \"sequential\"\n",
      "_________________________________________________________________\n",
      " Layer (type)                Output Shape              Param #   \n",
      "=================================================================\n",
      " keras_layer_1 (KerasLayer)  (None, 2048)              21802784  \n",
      "                                                                 \n",
      " flatten (Flatten)           (None, 2048)              0         \n",
      "                                                                 \n",
      " dense (Dense)               (None, 512)               1049088   \n",
      "                                                                 \n",
      " dropout (Dropout)           (None, 512)               0         \n",
      "                                                                 \n",
      " dense_1 (Dense)             (None, 4)                 2052      \n",
      "                                                                 \n",
      "=================================================================\n",
      "Total params: 22,853,924\n",
      "Trainable params: 1,051,140\n",
      "Non-trainable params: 21,802,784\n",
      "_________________________________________________________________\n"
     ]
    }
   ],
   "source": [
    "print(\"Building model with\", MODULE_HANDLE)\n",
    "model = tf.keras.Sequential([\n",
    "    feature_extractor,\n",
    "    tf.keras.layers.Flatten(),\n",
    "    tf.keras.layers.Dense(512, activation='relu'),\n",
    "    tf.keras.layers.Dropout(rate=0.2),\n",
    "    tf.keras.layers.Dense(train_generator.num_classes, activation='softmax',\n",
    "                           kernel_regularizer=tf.keras.regularizers.l2(0.0001))\n",
    "])\n",
    "#model.build((None,)+IMAGE_SIZE+(3,))\n",
    "\n",
    "model.summary()"
   ]
  },
  {
   "cell_type": "markdown",
   "metadata": {
    "id": "PGGphhh8Vu50"
   },
   "source": [
    "### Specify Loss Function and Optimizer"
   ]
  },
  {
   "cell_type": "code",
   "execution_count": null,
   "metadata": {
    "colab": {
     "base_uri": "https://localhost:8080/"
    },
    "id": "cq5rzR-vV7tn",
    "outputId": "90841782-134e-4e65-a2c7-43044550cd2a"
   },
   "outputs": [
    {
     "name": "stderr",
     "output_type": "stream",
     "text": [
      "/usr/local/lib/python3.7/dist-packages/keras/optimizer_v2/adam.py:105: UserWarning: The `lr` argument is deprecated, use `learning_rate` instead.\n",
      "  super(Adam, self).__init__(name, **kwargs)\n"
     ]
    }
   ],
   "source": [
    "#Compile model specifying the optimizer learning rate\n",
    "\n",
    "LEARNING_RATE = 0.001 #@param {type:\"number\"}\n",
    "\n",
    "model.compile(\n",
    "   optimizer=tf.keras.optimizers.Adam(lr=LEARNING_RATE), \n",
    "   loss='categorical_crossentropy',\n",
    "   metrics=['accuracy'])\n",
    "\n"
   ]
  },
  {
   "cell_type": "code",
   "execution_count": null,
   "metadata": {
    "id": "kXVlCyfyyefJ"
   },
   "outputs": [],
   "source": [
    "for i in range(len(model.weights)):\n",
    "    model.weights[i]._handle_name = model.weights[i].name + \"_\" + str(i)"
   ]
  },
  {
   "cell_type": "markdown",
   "metadata": {
    "id": "ia50ckJ6-rVr"
   },
   "source": [
    "### Train Model\n"
   ]
  },
  {
   "cell_type": "code",
   "execution_count": null,
   "metadata": {
    "colab": {
     "base_uri": "https://localhost:8080/"
    },
    "id": "Cf1FVwyCRI8o",
    "outputId": "9e27e3b4-9d19-4b4f-d9d1-bb52fc3c081a"
   },
   "outputs": [
    {
     "name": "stderr",
     "output_type": "stream",
     "text": [
      "/usr/local/lib/python3.7/dist-packages/ipykernel_launcher.py:9: UserWarning: `Model.fit_generator` is deprecated and will be removed in a future version. Please use `Model.fit`, which supports generators.\n",
      "  if __name__ == '__main__':\n"
     ]
    },
    {
     "name": "stdout",
     "output_type": "stream",
     "text": [
      "Epoch 1/45\n",
      "21/21 [==============================] - 752s 35s/step - loss: 1.3484 - accuracy: 0.4969 - val_loss: 1.8054 - val_accuracy: 0.1562\n",
      "Epoch 2/45\n",
      "21/21 [==============================] - 57s 3s/step - loss: 0.6875 - accuracy: 0.7286 - val_loss: 2.0501 - val_accuracy: 0.1406\n",
      "Epoch 3/45\n",
      "21/21 [==============================] - 56s 3s/step - loss: 0.5546 - accuracy: 0.7775 - val_loss: 2.3913 - val_accuracy: 0.1875\n",
      "Epoch 4/45\n",
      "21/21 [==============================] - 55s 3s/step - loss: 0.4654 - accuracy: 0.8211 - val_loss: 2.9160 - val_accuracy: 0.1562\n",
      "Epoch 5/45\n",
      "21/21 [==============================] - 55s 3s/step - loss: 0.4162 - accuracy: 0.8295 - val_loss: 3.2823 - val_accuracy: 0.0938\n",
      "Epoch 6/45\n",
      "21/21 [==============================] - 56s 3s/step - loss: 0.4122 - accuracy: 0.8333 - val_loss: 3.1207 - val_accuracy: 0.1562\n",
      "Epoch 7/45\n",
      "21/21 [==============================] - 55s 3s/step - loss: 0.3810 - accuracy: 0.8349 - val_loss: 3.3727 - val_accuracy: 0.1250\n",
      "Epoch 8/45\n",
      "21/21 [==============================] - 55s 3s/step - loss: 0.3441 - accuracy: 0.8654 - val_loss: 3.7046 - val_accuracy: 0.1250\n",
      "Epoch 9/45\n",
      "21/21 [==============================] - 55s 3s/step - loss: 0.3146 - accuracy: 0.8677 - val_loss: 3.7895 - val_accuracy: 0.1406\n",
      "Epoch 10/45\n",
      "21/21 [==============================] - 55s 3s/step - loss: 0.3208 - accuracy: 0.8647 - val_loss: 4.1210 - val_accuracy: 0.0938\n",
      "Epoch 11/45\n",
      "21/21 [==============================] - 55s 3s/step - loss: 0.2866 - accuracy: 0.8769 - val_loss: 3.7725 - val_accuracy: 0.0938\n",
      "Epoch 12/45\n",
      "21/21 [==============================] - 57s 3s/step - loss: 0.2737 - accuracy: 0.8847 - val_loss: 4.5000 - val_accuracy: 0.0781\n",
      "Epoch 13/45\n",
      "21/21 [==============================] - 55s 3s/step - loss: 0.2687 - accuracy: 0.8930 - val_loss: 4.1373 - val_accuracy: 0.0781\n",
      "Epoch 14/45\n",
      "21/21 [==============================] - 55s 3s/step - loss: 0.2718 - accuracy: 0.8907 - val_loss: 4.2076 - val_accuracy: 0.0625\n",
      "Epoch 15/45\n",
      "21/21 [==============================] - 54s 3s/step - loss: 0.2529 - accuracy: 0.8937 - val_loss: 4.6865 - val_accuracy: 0.0781\n",
      "Epoch 16/45\n",
      "21/21 [==============================] - 55s 3s/step - loss: 0.2493 - accuracy: 0.8914 - val_loss: 4.6801 - val_accuracy: 0.0312\n",
      "Epoch 17/45\n",
      "21/21 [==============================] - 54s 3s/step - loss: 0.2306 - accuracy: 0.8960 - val_loss: 4.6741 - val_accuracy: 0.1250\n",
      "Epoch 18/45\n",
      "21/21 [==============================] - 53s 3s/step - loss: 0.2466 - accuracy: 0.8976 - val_loss: 4.7249 - val_accuracy: 0.0938\n",
      "Epoch 19/45\n",
      "21/21 [==============================] - 55s 3s/step - loss: 0.2140 - accuracy: 0.9113 - val_loss: 5.0837 - val_accuracy: 0.0469\n",
      "Epoch 20/45\n",
      "21/21 [==============================] - 55s 3s/step - loss: 0.2318 - accuracy: 0.8838 - val_loss: 5.2963 - val_accuracy: 0.0781\n",
      "Epoch 21/45\n",
      "21/21 [==============================] - 56s 3s/step - loss: 0.2038 - accuracy: 0.9121 - val_loss: 5.2339 - val_accuracy: 0.0625\n",
      "Epoch 22/45\n",
      "21/21 [==============================] - 55s 3s/step - loss: 0.2276 - accuracy: 0.8998 - val_loss: 5.5237 - val_accuracy: 0.0312\n",
      "Epoch 23/45\n",
      "21/21 [==============================] - 56s 3s/step - loss: 0.1947 - accuracy: 0.9159 - val_loss: 5.9401 - val_accuracy: 0.0156\n",
      "Epoch 24/45\n",
      "21/21 [==============================] - 58s 3s/step - loss: 0.2250 - accuracy: 0.8930 - val_loss: 5.7882 - val_accuracy: 0.0938\n",
      "Epoch 25/45\n",
      "21/21 [==============================] - 57s 3s/step - loss: 0.2102 - accuracy: 0.9098 - val_loss: 5.7223 - val_accuracy: 0.0156\n",
      "Epoch 26/45\n",
      "21/21 [==============================] - 56s 3s/step - loss: 0.1849 - accuracy: 0.9182 - val_loss: 5.3551 - val_accuracy: 0.0312\n",
      "Epoch 27/45\n",
      "21/21 [==============================] - 55s 3s/step - loss: 0.1879 - accuracy: 0.9128 - val_loss: 5.8159 - val_accuracy: 0.0781\n",
      "Epoch 28/45\n",
      "21/21 [==============================] - 55s 3s/step - loss: 0.1885 - accuracy: 0.9144 - val_loss: 5.7567 - val_accuracy: 0.1094\n",
      "Epoch 29/45\n",
      "21/21 [==============================] - 55s 3s/step - loss: 0.1691 - accuracy: 0.9213 - val_loss: 5.4301 - val_accuracy: 0.0469\n",
      "Epoch 30/45\n",
      "21/21 [==============================] - 56s 3s/step - loss: 0.1848 - accuracy: 0.9174 - val_loss: 6.0158 - val_accuracy: 0.0469\n",
      "Epoch 31/45\n",
      "21/21 [==============================] - 56s 3s/step - loss: 0.1952 - accuracy: 0.8983 - val_loss: 5.7283 - val_accuracy: 0.0312\n",
      "Epoch 32/45\n",
      "21/21 [==============================] - 56s 3s/step - loss: 0.1616 - accuracy: 0.9320 - val_loss: 6.0116 - val_accuracy: 0.0469\n",
      "Epoch 33/45\n",
      "21/21 [==============================] - 55s 3s/step - loss: 0.1658 - accuracy: 0.9289 - val_loss: 7.0286 - val_accuracy: 0.0469\n",
      "Epoch 34/45\n",
      "21/21 [==============================] - 55s 3s/step - loss: 0.1817 - accuracy: 0.9151 - val_loss: 6.0851 - val_accuracy: 0.0156\n",
      "Epoch 35/45\n",
      "21/21 [==============================] - 57s 3s/step - loss: 0.1584 - accuracy: 0.9196 - val_loss: 6.0935 - val_accuracy: 0.0156\n",
      "Epoch 36/45\n",
      "21/21 [==============================] - 56s 3s/step - loss: 0.1603 - accuracy: 0.9274 - val_loss: 6.3800 - val_accuracy: 0.0156\n",
      "Epoch 37/45\n",
      "21/21 [==============================] - 58s 3s/step - loss: 0.1494 - accuracy: 0.9256 - val_loss: 6.6664 - val_accuracy: 0.0312\n",
      "Epoch 38/45\n",
      "21/21 [==============================] - 56s 3s/step - loss: 0.1645 - accuracy: 0.9243 - val_loss: 6.4115 - val_accuracy: 0.0469\n",
      "Epoch 39/45\n",
      "21/21 [==============================] - 55s 3s/step - loss: 0.1672 - accuracy: 0.9297 - val_loss: 6.4224 - val_accuracy: 0.0625\n",
      "Epoch 40/45\n",
      "21/21 [==============================] - 54s 3s/step - loss: 0.1990 - accuracy: 0.9021 - val_loss: 6.6824 - val_accuracy: 0.0625\n",
      "Epoch 41/45\n",
      "21/21 [==============================] - 55s 3s/step - loss: 0.1898 - accuracy: 0.9044 - val_loss: 6.3654 - val_accuracy: 0.0312\n",
      "Epoch 42/45\n",
      "21/21 [==============================] - 54s 3s/step - loss: 0.1579 - accuracy: 0.9205 - val_loss: 6.6386 - val_accuracy: 0.0938\n",
      "Epoch 43/45\n",
      "21/21 [==============================] - 54s 3s/step - loss: 0.1440 - accuracy: 0.9289 - val_loss: 7.0867 - val_accuracy: 0.0156\n",
      "Epoch 44/45\n",
      "21/21 [==============================] - 55s 3s/step - loss: 0.1438 - accuracy: 0.9289 - val_loss: 7.0951 - val_accuracy: 0.0625\n",
      "Epoch 45/45\n",
      "21/21 [==============================] - 54s 3s/step - loss: 0.1965 - accuracy: 0.9220 - val_loss: 6.5797 - val_accuracy: 0.0938\n"
     ]
    }
   ],
   "source": [
    "\n",
    "EPOCHS=45 #@param {type:\"integer\"}\n",
    "\n",
    "history = model.fit_generator(\n",
    "        train_generator,\n",
    "        steps_per_epoch=train_generator.samples//train_generator.batch_size,\n",
    "        epochs=EPOCHS,\n",
    "        validation_data=validation_generator,\n",
    "        validation_steps=validation_generator.samples//validation_generator.batch_size)"
   ]
  },
  {
   "cell_type": "markdown",
   "metadata": {
    "id": "pLa4bHwbPNWD"
   },
   "source": [
    "###Check Performance\n"
   ]
  },
  {
   "cell_type": "code",
   "execution_count": null,
   "metadata": {
    "colab": {
     "base_uri": "https://localhost:8080/",
     "height": 513
    },
    "id": "QUPxHwHC3Gy_",
    "outputId": "b83c9471-59a5-4ac7-ad01-b4d88fa825b1"
   },
   "outputs": [
    {
     "data": {
      "image/png": "[encoded data removed]",
      "text/plain": [
       "<Figure size 576x576 with 2 Axes>"
      ]
     },
     "metadata": {
      "needs_background": "light"
     },
     "output_type": "display_data"
    }
   ],
   "source": [
    "import matplotlib.pylab as plt\n",
    "import numpy as np\n",
    "\n",
    "acc = history.history['accuracy']\n",
    "val_acc = history.history['val_accuracy']\n",
    "\n",
    "loss = history.history['loss']\n",
    "val_loss = history.history['val_loss']\n",
    "\n",
    "epochs_range = range(EPOCHS)\n",
    "\n",
    "plt.figure(figsize=(8, 8))\n",
    "plt.subplot(1, 2, 1)\n",
    "plt.plot(epochs_range, acc, label='Training Accuracy')\n",
    "plt.plot(epochs_range, val_acc, label='Validation Accuracy')\n",
    "plt.legend(loc='lower right')\n",
    "plt.title('Training and Validation Accuracy')\n",
    "plt.ylabel(\"Accuracy (training and validation)\")\n",
    "plt.xlabel(\"Training Steps\")\n",
    "\n",
    "plt.subplot(1, 2, 2)\n",
    "plt.plot(epochs_range, loss, label='Training Loss')\n",
    "plt.plot(epochs_range, val_loss, label='Validation Loss')\n",
    "plt.legend(loc='upper right')\n",
    "plt.title('Training and Validation Loss')\n",
    "plt.ylabel(\"Loss (training and validation)\")\n",
    "plt.xlabel(\"Training Steps\")\n",
    "plt.show()    "
   ]
  },
  {
   "cell_type": "code",
   "execution_count": null,
   "metadata": {
    "id": "3gqLRgUuxlqL"
   },
   "outputs": [],
   "source": [
    "import tensorflow_hub as hub\n",
    "model.save(\"model_inceptionnet_5may_v1.h5\")"
   ]
  },
  {
   "cell_type": "markdown",
   "metadata": {
    "id": "aNzdageWS6k5"
   },
   "source": [
    "### Random test\n"
   ]
  },
  {
   "cell_type": "code",
   "execution_count": null,
   "metadata": {
    "id": "l1jIf7rKTBLx"
   },
   "outputs": [],
   "source": [
    "# Import OpenCV\n",
    "import cv2\n",
    "\n",
    "# Utility\n",
    "import itertools\n",
    "import random\n",
    "from collections import Counter\n",
    "from glob import iglob\n",
    "\n",
    "\n",
    "def load_image(filename):\n",
    "    img = cv2.imread(os.path.join(data_dir, validation_dir, filename))\n",
    "    img = cv2.resize(img, (IMAGE_SIZE[0], IMAGE_SIZE[1]) )\n",
    "    img = img /255\n",
    "    \n",
    "    return img\n",
    "\n",
    "\n",
    "def predict(image):\n",
    "    probabilities = model.predict(np.asarray([image]))[0]\n",
    "    class_idx = np.argmax(probabilities)\n",
    "    \n",
    "    return {classes[class_idx]: probabilities[class_idx]}"
   ]
  },
  {
   "cell_type": "code",
   "execution_count": null,
   "metadata": {
    "id": "tKZduGZoTFSg"
   },
   "outputs": [],
   "source": [
    "for idx, filename in enumerate(random.sample(validation_generator.filenames, 5)):\n",
    "    print(\"SOURCE: class: %s, file: %s\" % (os.path.split(filename)[0], filename))\n",
    "    \n",
    "    img = load_image(filename)\n",
    "    prediction = predict(img)\n",
    "    print(\"PREDICTED: class: %s, confidence: %f\" % (list(prediction.keys())[0], list(prediction.values())[0]))\n",
    "    plt.imshow(img)\n",
    "    plt.figure(idx)    \n",
    "    plt.show()"
   ]
  },
  {
   "cell_type": "code",
   "execution_count": null,
   "metadata": {
    "id": "QldWdC_iw9yE"
   },
   "outputs": [],
   "source": [
    "import os\n",
    "path =r\"/content/drive/My Drive/images_split/images_split/test/Tungro\"\n",
    "list_of_files = []\n",
    "\n",
    "for root, dirs, files in os.walk(path):\n",
    "\tfor file in files:\n",
    "\t\tlist_of_files.append(os.path.join(root,file))\n",
    "class_name_index = {'Bacterial_leaf_blight':0, 'blast':1, 'brownspot':2, 'tungro':3}\n",
    "class_count = []\n",
    "for idx, filename in enumerate(list_of_files):\n",
    "    print(\"SOURCE: class: %s, file: %s\" % (os.path.split(filename)[0], filename))\n",
    "    \n",
    "    img = load_image(filename)\n",
    "    prediction = predict(img)\n",
    "    print(\"PREDICTED: class: %s, confidence: %f\" % (list(prediction.keys())[0], list(prediction.values())[0]))\n",
    "    class_count.append(class_name_index[list(prediction.keys())[0]])\n",
    "    #plt.imshow(img)\n",
    "    #plt.figure(idx)    \n",
    "    #plt.show()"
   ]
  },
  {
   "cell_type": "code",
   "execution_count": null,
   "metadata": {
    "id": "6nmpEAOhzi62"
   },
   "outputs": [],
   "source": [
    "flag = 0\n",
    "for i in range(len(class_count)):\n",
    "  if(class_count[i] == 3):\n",
    "    flag +=1"
   ]
  },
  {
   "cell_type": "code",
   "execution_count": null,
   "metadata": {
    "colab": {
     "base_uri": "https://localhost:8080/"
    },
    "id": "2TGzMUka2gB_",
    "outputId": "73b26ffd-6e95-44f0-8003-b43f25c9a8be"
   },
   "outputs": [
    {
     "data": {
      "text/plain": [
       "0.8376623376623377"
      ]
     },
     "execution_count": 86,
     "metadata": {},
     "output_type": "execute_result"
    }
   ],
   "source": [
    "flag/len(list_of_files)"
   ]
  },
  {
   "cell_type": "code",
   "execution_count": null,
   "metadata": {
    "colab": {
     "base_uri": "https://localhost:8080/"
    },
    "id": "PM9G7EwQ0HpA",
    "outputId": "03103143-0f89-4e10-dae2-169f9b3a3fe4"
   },
   "outputs": [
    {
     "name": "stdout",
     "output_type": "stream",
     "text": [
      "PREDICTED: class: tungro, confidence: 0.984716\n"
     ]
    }
   ],
   "source": [
    "filename = \"/content/t3.jpg\"\n",
    "img = load_image(filename)\n",
    "prediction = predict(img)\n",
    "print(\"PREDICTED: class: %s, confidence: %f\" % (list(prediction.keys())[0], list(prediction.values())[0]))"
   ]
  },
  {
   "cell_type": "code",
   "execution_count": null,
   "metadata": {
    "id": "07wfx6qb4hR2"
   },
   "outputs": [],
   "source": [
    "def predict(image,new_model):\n",
    "    probabilities = new_model.predict(np.asarray([image]))[0]\n",
    "    class_idx = np.argmax(probabilities)\n",
    "    \n",
    "    return {classes[class_idx]: probabilities[class_idx]}"
   ]
  },
  {
   "cell_type": "code",
   "execution_count": null,
   "metadata": {
    "id": "Xo6oviL75UJA"
   },
   "outputs": [],
   "source": [
    "import os\n",
    "path =r\"/content/drive/My Drive/images_split/images_split/test/Blast\"\n",
    "list_of_files = []\n",
    "\n",
    "for root, dirs, files in os.walk(path):\n",
    "\tfor file in files:\n",
    "\t\tlist_of_files.append(os.path.join(root,file))\n",
    "class_name_index = {'Bacterial_leaf_blight':0, 'blast':1, 'brownspot':2, 'tungro':3}\n",
    "class_count = []\n",
    "for idx, filename in enumerate(list_of_files):\n",
    "    print(\"SOURCE: class: %s, file: %s\" % (os.path.split(filename)[0], filename))\n",
    "    \n",
    "    img = load_image(filename)\n",
    "    prediction = predict(img,new_model)\n",
    "    print(\"PREDICTED: class: %s, confidence: %f\" % (list(prediction.keys())[0], list(prediction.values())[0]))\n",
    "    class_count.append(class_name_index[list(prediction.keys())[0]])\n",
    "    #plt.imshow(img)\n",
    "    #plt.figure(idx)    \n",
    "    #plt.show()"
   ]
  },
  {
   "cell_type": "code",
   "execution_count": null,
   "metadata": {
    "id": "OU-VdnAZ5rQk"
   },
   "outputs": [],
   "source": [
    "flag = 0\n",
    "for i in range(len(class_count)):\n",
    "  if(class_count[i] == 1):\n",
    "    flag +=1"
   ]
  },
  {
   "cell_type": "code",
   "execution_count": null,
   "metadata": {
    "colab": {
     "base_uri": "https://localhost:8080/"
    },
    "id": "pn9hJkpc5rvv",
    "outputId": "85cd27ae-bab9-4891-a8fe-b10c9059fe82"
   },
   "outputs": [
    {
     "data": {
      "text/plain": [
       "0.7115384615384616"
      ]
     },
     "execution_count": 101,
     "metadata": {},
     "output_type": "execute_result"
    }
   ],
   "source": [
    "flag/len(list_of_files)"
   ]
  },
  {
   "cell_type": "code",
   "execution_count": null,
   "metadata": {
    "id": "up029HNx5w3y"
   },
   "outputs": [],
   "source": []
  }
 ],
 "metadata": {
  "accelerator": "GPU",
  "colab": {
   "collapsed_sections": [],
   "name": " Rice Leaf Detection 05.05.2022",
   "provenance": []
  },
  "kernelspec": {
   "display_name": "Python 3 (ipykernel)",
   "language": "python",
   "name": "python3"
  },
  "language_info": {
   "codemirror_mode": {
    "name": "ipython",
    "version": 3
   },
   "file_extension": ".py",
   "mimetype": "text/x-python",
   "name": "python",
   "nbconvert_exporter": "python",
   "pygments_lexer": "ipython3",
   "version": "3.9.7"
  }
 },
 "nbformat": 4,
 "nbformat_minor": 1
}
